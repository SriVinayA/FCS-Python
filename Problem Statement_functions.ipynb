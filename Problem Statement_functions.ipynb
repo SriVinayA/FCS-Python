{
 "cells": [
  {
   "cell_type": "code",
   "execution_count": 14,
   "metadata": {},
   "outputs": [
    {
     "name": "stdout",
     "output_type": "stream",
     "text": [
      "hello world\n"
     ]
    }
   ],
   "source": [
    "#write a program to print \"hello world\" using function\n",
    "\n",
    "def q1():\n",
    "    print(\"hello world\")\n",
    "    \n",
    "    \n",
    "q1()"
   ]
  },
  {
   "cell_type": "code",
   "execution_count": 15,
   "metadata": {},
   "outputs": [
    {
     "name": "stdout",
     "output_type": "stream",
     "text": [
      "enter your name : vinay\n",
      "hello vinay! I am alexa\n"
     ]
    }
   ],
   "source": [
    "#for any input display \"hello name\" using function\n",
    "\n",
    "def q2():\n",
    "    name = input(\"enter your name : \")\n",
    "    print(f\"hello {name}! I am alexa\")\n",
    "    \n",
    "    \n",
    "q2()"
   ]
  },
  {
   "cell_type": "code",
   "execution_count": 16,
   "metadata": {},
   "outputs": [
    {
     "name": "stdout",
     "output_type": "stream",
     "text": [
      "enter any number : 44\n",
      "44 is an even number\n"
     ]
    }
   ],
   "source": [
    "#any kind of ifelse program\n",
    "\n",
    "def evenodd():\n",
    "    i = int(input(\"enter any number : \"))\n",
    "    if i%2==0:\n",
    "        print(f\"{i} is an even number\")\n",
    "    else:\n",
    "        print(f\"{i} is an odd number\")\n",
    "        \n",
    "        \n",
    "evenodd()"
   ]
  },
  {
   "cell_type": "code",
   "execution_count": 17,
   "metadata": {},
   "outputs": [
    {
     "name": "stdout",
     "output_type": "stream",
     "text": [
      "enter any number : 43\n",
      "43 is a prime number\n"
     ]
    }
   ],
   "source": [
    "#checking a whether prime number or not \n",
    "\n",
    "def prime():\n",
    "    k=0\n",
    "    i = int(input(\"enter any number : \"))\n",
    "    for x in range(2,i):\n",
    "        if i%x==0:\n",
    "            k=1\n",
    "            break\n",
    "    if k==1:\n",
    "        print(f\"{i} is not a prime number\")\n",
    "    else:\n",
    "        print(f\"{i} is a prime number\")\n",
    "            \n",
    "prime()"
   ]
  },
  {
   "cell_type": "code",
   "execution_count": 5,
   "metadata": {
    "scrolled": true
   },
   "outputs": [
    {
     "name": "stdout",
     "output_type": "stream",
     "text": [
      "Enter any name : akash\n",
      "kashaxy\n"
     ]
    }
   ],
   "source": [
    "#piglet - vowels example\n",
    "\n",
    "def piglet():\n",
    "    name = input(\"Enter any name : \")\n",
    "    if name[0] in 'aeiou':\n",
    "        name = name[1:] + name[0] + \"xy\"\n",
    "        print(name)\n",
    "    else:\n",
    "        name = name + \"xy\"\n",
    "        print(name)\n",
    "        \n",
    "        \n",
    "piglet()"
   ]
  },
  {
   "cell_type": "code",
   "execution_count": 19,
   "metadata": {},
   "outputs": [
    {
     "name": "stdout",
     "output_type": "stream",
     "text": [
      "cel or far ?cel\n",
      "enter the celsius reading : 0\n",
      "the reading in fahrenheit = 32.0\n"
     ]
    }
   ],
   "source": [
    "#farenheit to celsius and vice versa\n",
    "\n",
    "def temp():\n",
    "    T = input(\"cel or far ?\")\n",
    "    if T==\"cel\":\n",
    "        c = float(input(\"enter the celsius reading : \"))\n",
    "        f = (c*1.8)+32\n",
    "        print(f\"the reading in fahrenheit = {f}\")\n",
    "    elif T==\"far\":\n",
    "        f = float(input(\"enter the fahrenheit reading : \"))\n",
    "        c = (f-32)/1.8\n",
    "        print(f\"the reading in fahrenheit = {c}\")\n",
    "    else:\n",
    "        print(\"you entered an invalid character\")\n",
    "\n",
    "        \n",
    "        \n",
    "temp()"
   ]
  },
  {
   "cell_type": "code",
   "execution_count": 6,
   "metadata": {},
   "outputs": [
    {
     "name": "stdout",
     "output_type": "stream",
     "text": [
      "1\n",
      "2\n",
      "a\n"
     ]
    }
   ],
   "source": [
    "#pass random no. of arguments in functions\n",
    "\n",
    "def random(*arg):\n",
    "    for i in arg:\n",
    "        print(i)\n",
    "        \n",
    "random(1,2,'a')"
   ]
  },
  {
   "cell_type": "code",
   "execution_count": null,
   "metadata": {},
   "outputs": [],
   "source": []
  }
 ],
 "metadata": {
  "kernelspec": {
   "display_name": "Python 3",
   "language": "python",
   "name": "python3"
  },
  "language_info": {
   "codemirror_mode": {
    "name": "ipython",
    "version": 3
   },
   "file_extension": ".py",
   "mimetype": "text/x-python",
   "name": "python",
   "nbconvert_exporter": "python",
   "pygments_lexer": "ipython3",
   "version": "3.6.5"
  }
 },
 "nbformat": 4,
 "nbformat_minor": 2
}
