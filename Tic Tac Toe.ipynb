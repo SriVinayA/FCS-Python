{
 "cells": [
  {
   "cell_type": "markdown",
   "metadata": {},
   "source": [
    "# print a board"
   ]
  },
  {
   "cell_type": "code",
   "execution_count": 1,
   "metadata": {},
   "outputs": [
    {
     "name": "stdout",
     "output_type": "stream",
     "text": [
      " ------- \n",
      " |     | \n",
      " ------- \n",
      " |     | \n",
      " ------- \n",
      " |     | \n",
      " ------- \n"
     ]
    }
   ],
   "source": [
    "def displayBoard():\n",
    "    print(\" ------- \")\n",
    "    print(\" |     | \")\n",
    "    print(\" ------- \")\n",
    "    print(\" |     | \")\n",
    "    print(\" ------- \")\n",
    "    print(\" |     | \")\n",
    "    print(\" ------- \")\n",
    "    \n",
    "displayBoard()"
   ]
  },
  {
   "cell_type": "code",
   "execution_count": 2,
   "metadata": {},
   "outputs": [],
   "source": [
    "board = ['O','X','O','X','O','X','O','X','O','X']"
   ]
  },
  {
   "cell_type": "code",
   "execution_count": 3,
   "metadata": {},
   "outputs": [
    {
     "name": "stdout",
     "output_type": "stream",
     "text": [
      " ------------- \n",
      "   X | O | X\n",
      " ------------- \n",
      "   O | X | O\n",
      " ------------- \n",
      "   X | O | X\n",
      " ------------- \n"
     ]
    }
   ],
   "source": [
    "from IPython.display import clear_output\n",
    "\n",
    "def displayBoard(board):\n",
    "    clear_output()\n",
    "    print(\" ------------- \")\n",
    "    print(\"   \"+ board[7] + \" | \" + board[8] + \" | \" + board[9])\n",
    "    print(\" ------------- \")\n",
    "    print(\"   \"+ board[4] + \" | \" + board[5] + \" | \" + board[6])\n",
    "    print(\" ------------- \")\n",
    "    print(\"   \"+ board[1] + \" | \" + board[2] + \" | \" + board[3])\n",
    "    print(\" ------------- \")\n",
    "    \n",
    "displayBoard(board)"
   ]
  },
  {
   "cell_type": "code",
   "execution_count": 4,
   "metadata": {},
   "outputs": [
    {
     "name": "stdout",
     "output_type": "stream",
     "text": [
      " ------------- \n",
      "     |   |  \n",
      " ------------- \n",
      "     |   |  \n",
      " ------------- \n",
      "     |   |  \n",
      " ------------- \n"
     ]
    }
   ],
   "source": [
    "board = [' ']*10\n",
    "\n",
    "displayBoard(board)"
   ]
  },
  {
   "cell_type": "markdown",
   "metadata": {},
   "source": [
    "# Func. to assign a marker to the player"
   ]
  },
  {
   "cell_type": "code",
   "execution_count": 5,
   "metadata": {},
   "outputs": [
    {
     "name": "stdout",
     "output_type": "stream",
     "text": [
      "Player One : Please enter your marker X or O : x\n"
     ]
    },
    {
     "data": {
      "text/plain": [
       "('X', 'O')"
      ]
     },
     "execution_count": 5,
     "metadata": {},
     "output_type": "execute_result"
    }
   ],
   "source": [
    "def playerInput():\n",
    "    marker = ' '\n",
    "    \n",
    "    while not(marker == 'X' or marker == 'O'):\n",
    "        marker = input('Player One : Please enter your marker X or O : ').upper()\n",
    "        \n",
    "    if marker == 'X':\n",
    "        return('X','O')\n",
    "    else:\n",
    "        return('O','X')\n",
    "    \n",
    "playerInput()"
   ]
  },
  {
   "cell_type": "code",
   "execution_count": null,
   "metadata": {},
   "outputs": [],
   "source": []
  },
  {
   "cell_type": "code",
   "execution_count": null,
   "metadata": {},
   "outputs": [],
   "source": []
  },
  {
   "cell_type": "code",
   "execution_count": 6,
   "metadata": {},
   "outputs": [],
   "source": [
    "testBoard = ['O','X','O','X','O','X','O','X','O','X']"
   ]
  },
  {
   "cell_type": "code",
   "execution_count": 7,
   "metadata": {},
   "outputs": [],
   "source": [
    "def placeMarker(board,marker,position):\n",
    "    board[position] = marker"
   ]
  },
  {
   "cell_type": "code",
   "execution_count": 8,
   "metadata": {},
   "outputs": [
    {
     "name": "stdout",
     "output_type": "stream",
     "text": [
      " ------------- \n",
      "     |   |  \n",
      " ------------- \n",
      "   X |   |  \n",
      " ------------- \n",
      "     |   |  \n",
      " ------------- \n"
     ]
    }
   ],
   "source": [
    "placeMarker(board,'X',4)\n",
    "displayBoard(board)"
   ]
  },
  {
   "cell_type": "markdown",
   "metadata": {},
   "source": [
    "# Check if someone WON the game"
   ]
  },
  {
   "cell_type": "code",
   "execution_count": 9,
   "metadata": {},
   "outputs": [],
   "source": [
    "def winCheck(board,mark):\n",
    "    return((board[7]==mark and board[8]==mark and board[9]==mark) or \n",
    "           (board[4]==mark and board[5]==mark and board[6]==mark) or\n",
    "           (board[1]==mark and board[2]==mark and board[3]==mark) or\n",
    "           (board[1]==mark and board[4]==mark and board[7]==mark) or \n",
    "           (board[2]==mark and board[5]==mark and board[8]==mark) or\n",
    "           (board[3]==mark and board[6]==mark and board[9]==mark) or\n",
    "           (board[1]==mark and board[5]==mark and board[9]==mark) or \n",
    "           (board[3]==mark and board[5]==mark and board[7]==mark))"
   ]
  },
  {
   "cell_type": "code",
   "execution_count": 10,
   "metadata": {},
   "outputs": [
    {
     "data": {
      "text/plain": [
       "False"
      ]
     },
     "execution_count": 10,
     "metadata": {},
     "output_type": "execute_result"
    }
   ],
   "source": [
    "winCheck(testBoard,'O')"
   ]
  },
  {
   "cell_type": "code",
   "execution_count": 11,
   "metadata": {},
   "outputs": [
    {
     "data": {
      "text/plain": [
       "True"
      ]
     },
     "execution_count": 11,
     "metadata": {},
     "output_type": "execute_result"
    }
   ],
   "source": [
    "winCheck(testBoard,'X')"
   ]
  },
  {
   "cell_type": "markdown",
   "metadata": {},
   "source": [
    "# Assign First Player Randomly"
   ]
  },
  {
   "cell_type": "code",
   "execution_count": 12,
   "metadata": {},
   "outputs": [
    {
     "data": {
      "text/plain": [
       "'Player2'"
      ]
     },
     "execution_count": 12,
     "metadata": {},
     "output_type": "execute_result"
    }
   ],
   "source": [
    "import random\n",
    "def chooseFirst():\n",
    "    if random.randint(1,2)==2:\n",
    "        return 'Player2'\n",
    "    else:\n",
    "        return 'Player1'\n",
    "    \n",
    "    \n",
    "chooseFirst()"
   ]
  },
  {
   "cell_type": "code",
   "execution_count": null,
   "metadata": {},
   "outputs": [],
   "source": []
  },
  {
   "cell_type": "code",
   "execution_count": null,
   "metadata": {},
   "outputs": [],
   "source": []
  },
  {
   "cell_type": "code",
   "execution_count": null,
   "metadata": {},
   "outputs": [],
   "source": []
  },
  {
   "cell_type": "code",
   "execution_count": 13,
   "metadata": {},
   "outputs": [
    {
     "data": {
      "text/plain": [
       "False"
      ]
     },
     "execution_count": 13,
     "metadata": {},
     "output_type": "execute_result"
    }
   ],
   "source": [
    "def spaceCheck(board,position):\n",
    "    return board[position]==' '\n",
    "\n",
    "spaceCheck(board,4)"
   ]
  },
  {
   "cell_type": "code",
   "execution_count": 14,
   "metadata": {},
   "outputs": [
    {
     "data": {
      "text/plain": [
       "True"
      ]
     },
     "execution_count": 14,
     "metadata": {},
     "output_type": "execute_result"
    }
   ],
   "source": [
    "spaceCheck(board,5)"
   ]
  },
  {
   "cell_type": "code",
   "execution_count": null,
   "metadata": {},
   "outputs": [],
   "source": []
  },
  {
   "cell_type": "code",
   "execution_count": null,
   "metadata": {},
   "outputs": [],
   "source": []
  },
  {
   "cell_type": "code",
   "execution_count": null,
   "metadata": {},
   "outputs": [],
   "source": []
  },
  {
   "cell_type": "code",
   "execution_count": 15,
   "metadata": {},
   "outputs": [
    {
     "data": {
      "text/plain": [
       "False"
      ]
     },
     "execution_count": 15,
     "metadata": {},
     "output_type": "execute_result"
    }
   ],
   "source": [
    "def fullBoardCheck(board):\n",
    "    return not ' ' in board\n",
    "\n",
    "fullBoardCheck(board)"
   ]
  },
  {
   "cell_type": "code",
   "execution_count": 16,
   "metadata": {},
   "outputs": [
    {
     "data": {
      "text/plain": [
       "True"
      ]
     },
     "execution_count": 16,
     "metadata": {},
     "output_type": "execute_result"
    }
   ],
   "source": [
    "fullBoardCheck(testBoard)"
   ]
  },
  {
   "cell_type": "code",
   "execution_count": null,
   "metadata": {},
   "outputs": [],
   "source": []
  },
  {
   "cell_type": "code",
   "execution_count": null,
   "metadata": {},
   "outputs": [],
   "source": []
  },
  {
   "cell_type": "code",
   "execution_count": null,
   "metadata": {},
   "outputs": [],
   "source": []
  },
  {
   "cell_type": "code",
   "execution_count": 17,
   "metadata": {},
   "outputs": [
    {
     "name": "stdout",
     "output_type": "stream",
     "text": [
      "Enter the position(1-9) : 6\n"
     ]
    },
    {
     "data": {
      "text/plain": [
       "6"
      ]
     },
     "execution_count": 17,
     "metadata": {},
     "output_type": "execute_result"
    }
   ],
   "source": [
    "def nextPlayerChoice(board):\n",
    "    position = 0\n",
    "    while position not in [1,2,3,4,5,6,7,8,9] or not spaceCheck(board,position):\n",
    "        position = int(input(\"Enter the position(1-9) : \"))\n",
    "    return position\n",
    "\n",
    "nextPlayerChoice(board)"
   ]
  },
  {
   "cell_type": "code",
   "execution_count": null,
   "metadata": {},
   "outputs": [],
   "source": []
  },
  {
   "cell_type": "code",
   "execution_count": null,
   "metadata": {},
   "outputs": [],
   "source": []
  },
  {
   "cell_type": "code",
   "execution_count": null,
   "metadata": {},
   "outputs": [],
   "source": []
  },
  {
   "cell_type": "code",
   "execution_count": 18,
   "metadata": {},
   "outputs": [
    {
     "name": "stdout",
     "output_type": "stream",
     "text": [
      "You want to play again(yes/no) : y\n"
     ]
    },
    {
     "data": {
      "text/plain": [
       "True"
      ]
     },
     "execution_count": 18,
     "metadata": {},
     "output_type": "execute_result"
    }
   ],
   "source": [
    "def replay():\n",
    "\n",
    "    return input(\"You want to play again(yes/no) : \").lower().startswith('y')\n",
    "    \n",
    "replay()"
   ]
  },
  {
   "cell_type": "code",
   "execution_count": null,
   "metadata": {},
   "outputs": [],
   "source": []
  },
  {
   "cell_type": "code",
   "execution_count": null,
   "metadata": {},
   "outputs": [],
   "source": []
  },
  {
   "cell_type": "markdown",
   "metadata": {},
   "source": [
    "# Final Assembly"
   ]
  },
  {
   "cell_type": "code",
   "execution_count": 19,
   "metadata": {},
   "outputs": [
    {
     "name": "stdout",
     "output_type": "stream",
     "text": [
      " ------------- \n",
      "   O |   | X\n",
      " ------------- \n",
      "     | O | X\n",
      " ------------- \n",
      "   O | X | O\n",
      " ------------- \n",
      "Player 2 Won!\n",
      "You want to play again(yes/no) : n\n"
     ]
    }
   ],
   "source": [
    "print(\"Welcome to Tic Tac Toe\")\n",
    "\n",
    "while True:\n",
    "    newBoard = [' ']*10\n",
    "    player1Marker,player2Marker = playerInput()\n",
    "    turn = chooseFirst()\n",
    "    print(turn+ ' Will Go First in Tic Tac Toe')\n",
    "    \n",
    "    playGame = input('Are you ready ?(yes/no) : ')\n",
    "    \n",
    "    if playGame.lower()[0]=='y':\n",
    "        gameOn = True\n",
    "    else:\n",
    "        gameOn = False\n",
    "        \n",
    "    while gameOn:\n",
    "        if turn == 'Player 1':\n",
    "            displayBoard(newBoard)\n",
    "            position = nextPlayerChoice(newBoard)\n",
    "            placeMarker(newBoard,player1Marker,position)\n",
    "        \n",
    "            if winCheck(newBoard, player1Marker):\n",
    "                displayBoard(newBoard)\n",
    "                print('Congratulations! You have Won the game!')\n",
    "                gameOn= False;\n",
    "            else:\n",
    "                if fullBoardCheck(newBoard):\n",
    "                    displayBoard(newBoard)\n",
    "                    print(\"Game Draws!\")\n",
    "                    break\n",
    "                else:\n",
    "                    turn = 'Player 2'\n",
    "                    \n",
    "        else:\n",
    "            displayBoard(newBoard)\n",
    "            position = nextPlayerChoice(newBoard)\n",
    "            placeMarker(newBoard,player2Marker,position)\n",
    "            \n",
    "            if winCheck(newBoard,player2Marker):\n",
    "                displayBoard(newBoard)\n",
    "                print('Player 2 Won!')\n",
    "                gameOn = False\n",
    "            else:\n",
    "                if fullBoardCheck(newBoard):\n",
    "                    displayBoard(newBoard)\n",
    "                    print(\"Its is a Draw\")\n",
    "                    break\n",
    "                else:\n",
    "                    turn = \"Player 1\"\n",
    "        \n",
    "    if not replay():\n",
    "        break"
   ]
  },
  {
   "cell_type": "code",
   "execution_count": null,
   "metadata": {},
   "outputs": [],
   "source": []
  }
 ],
 "metadata": {
  "kernelspec": {
   "display_name": "Python 3",
   "language": "python",
   "name": "python3"
  },
  "language_info": {
   "codemirror_mode": {
    "name": "ipython",
    "version": 3
   },
   "file_extension": ".py",
   "mimetype": "text/x-python",
   "name": "python",
   "nbconvert_exporter": "python",
   "pygments_lexer": "ipython3",
   "version": "3.6.5"
  }
 },
 "nbformat": 4,
 "nbformat_minor": 2
}
