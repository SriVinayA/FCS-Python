{
 "cells": [
  {
   "cell_type": "markdown",
   "metadata": {},
   "source": [
    "# print a board"
   ]
  },
  {
   "cell_type": "code",
   "execution_count": 36,
   "metadata": {},
   "outputs": [
    {
     "name": "stdout",
     "output_type": "stream",
     "text": [
      " ------- \n",
      " |     | \n",
      " ------- \n",
      " |     | \n",
      " ------- \n",
      " |     | \n",
      " ------- \n"
     ]
    }
   ],
   "source": [
    "def displayBoard():\n",
    "    print(\" ------- \")\n",
    "    print(\" |     | \")\n",
    "    print(\" ------- \")\n",
    "    print(\" |     | \")\n",
    "    print(\" ------- \")\n",
    "    print(\" |     | \")\n",
    "    print(\" ------- \")\n",
    "    \n",
    "displayBoard()"
   ]
  },
  {
   "cell_type": "code",
   "execution_count": 37,
   "metadata": {},
   "outputs": [],
   "source": [
    "board = ['O','X','O','X','O','X','O','X','O','X']"
   ]
  },
  {
   "cell_type": "code",
   "execution_count": 38,
   "metadata": {},
   "outputs": [
    {
     "name": "stdout",
     "output_type": "stream",
     "text": [
      " ------------- \n",
      "   X | O | X\n",
      " ------------- \n",
      "   O | X | O\n",
      " ------------- \n",
      "   X | O | X\n",
      " ------------- \n"
     ]
    }
   ],
   "source": [
    "from IPython.display import clear_output\n",
    "\n",
    "def displayBoard(board):\n",
    "    clear_output()\n",
    "    print(\" ------------- \")\n",
    "    print(\"   \"+ board[7] + \" | \" + board[8] + \" | \" + board[9])\n",
    "    print(\" ------------- \")\n",
    "    print(\"   \"+ board[4] + \" | \" + board[5] + \" | \" + board[6])\n",
    "    print(\" ------------- \")\n",
    "    print(\"   \"+ board[1] + \" | \" + board[2] + \" | \" + board[3])\n",
    "    print(\" ------------- \")\n",
    "    \n",
    "displayBoard(board)"
   ]
  },
  {
   "cell_type": "code",
   "execution_count": 49,
   "metadata": {},
   "outputs": [
    {
     "name": "stdout",
     "output_type": "stream",
     "text": [
      " ------------- \n",
      "     |   |  \n",
      " ------------- \n",
      "     |   |  \n",
      " ------------- \n",
      "     |   |  \n",
      " ------------- \n"
     ]
    }
   ],
   "source": [
    "board = [' ']*10\n",
    "\n",
    "displayBoard(board)"
   ]
  },
  {
   "cell_type": "markdown",
   "metadata": {},
   "source": [
    "# Func. to assign a marker to the player"
   ]
  },
  {
   "cell_type": "code",
   "execution_count": 50,
   "metadata": {},
   "outputs": [
    {
     "name": "stdout",
     "output_type": "stream",
     "text": [
      "Player One : Please enter your marker X or O : \n",
      "Player One : Please enter your marker X or O : x\n"
     ]
    },
    {
     "data": {
      "text/plain": [
       "('X', 'O')"
      ]
     },
     "execution_count": 50,
     "metadata": {},
     "output_type": "execute_result"
    }
   ],
   "source": [
    "def playerInput():\n",
    "    marker = ' '\n",
    "    \n",
    "    while not(marker == 'X' or marker == 'O'):\n",
    "        marker = input('Player One : Please enter your marker X or O : ').upper()\n",
    "        \n",
    "    if marker == 'X':\n",
    "        return('X','O')\n",
    "    else:\n",
    "        return('O','X')\n",
    "    \n",
    "playerInput()"
   ]
  },
  {
   "cell_type": "code",
   "execution_count": null,
   "metadata": {},
   "outputs": [],
   "source": []
  },
  {
   "cell_type": "code",
   "execution_count": null,
   "metadata": {},
   "outputs": [],
   "source": []
  },
  {
   "cell_type": "code",
   "execution_count": 56,
   "metadata": {},
   "outputs": [],
   "source": [
    "testBoard = ['O','X','O','X','O','X','O','X','O','X']"
   ]
  },
  {
   "cell_type": "code",
   "execution_count": 47,
   "metadata": {},
   "outputs": [],
   "source": [
    "def placeMarker(board,marker,position):\n",
    "    board[position] = marker"
   ]
  },
  {
   "cell_type": "code",
   "execution_count": 69,
   "metadata": {},
   "outputs": [
    {
     "name": "stdout",
     "output_type": "stream",
     "text": [
      " ------------- \n",
      "     |   |  \n",
      " ------------- \n",
      "   t |   |  \n",
      " ------------- \n",
      "     |   |  \n",
      " ------------- \n"
     ]
    }
   ],
   "source": [
    "placeMarker(board,'t',4)\n",
    "displayBoard(board)"
   ]
  },
  {
   "cell_type": "markdown",
   "metadata": {},
   "source": [
    "# Check if someone WON the game"
   ]
  },
  {
   "cell_type": "code",
   "execution_count": 60,
   "metadata": {},
   "outputs": [],
   "source": [
    "def winCheck(board,mark):\n",
    "    return((board[7]==mark and board[8]==mark and board[9]==mark) or \n",
    "           (board[4]==mark and board[5]==mark and board[6]==mark) or\n",
    "           (board[1]==mark and board[2]==mark and board[3]==mark) or\n",
    "           (board[1]==mark and board[4]==mark and board[7]==mark) or \n",
    "           (board[2]==mark and board[5]==mark and board[8]==mark) or\n",
    "           (board[3]==mark and board[6]==mark and board[9]==mark) or\n",
    "           (board[1]==mark and board[5]==mark and board[9]==mark) or \n",
    "           (board[3]==mark and board[5]==mark and board[7]==mark))"
   ]
  },
  {
   "cell_type": "code",
   "execution_count": 61,
   "metadata": {},
   "outputs": [
    {
     "data": {
      "text/plain": [
       "False"
      ]
     },
     "execution_count": 61,
     "metadata": {},
     "output_type": "execute_result"
    }
   ],
   "source": [
    "winCheck(testBoard,'O')"
   ]
  },
  {
   "cell_type": "code",
   "execution_count": 62,
   "metadata": {},
   "outputs": [
    {
     "data": {
      "text/plain": [
       "True"
      ]
     },
     "execution_count": 62,
     "metadata": {},
     "output_type": "execute_result"
    }
   ],
   "source": [
    "winCheck(testBoard,'X')"
   ]
  },
  {
   "cell_type": "markdown",
   "metadata": {},
   "source": [
    "# Assign First Player Randomly"
   ]
  },
  {
   "cell_type": "code",
   "execution_count": 63,
   "metadata": {},
   "outputs": [],
   "source": [
    "import random\n",
    "def chooseFirst():\n",
    "    if random.randint(1,2)==2:\n",
    "        return 'Player2'\n",
    "    else:\n",
    "        return 'Player1'"
   ]
  },
  {
   "cell_type": "code",
   "execution_count": 67,
   "metadata": {},
   "outputs": [
    {
     "data": {
      "text/plain": [
       "'Player2'"
      ]
     },
     "execution_count": 67,
     "metadata": {},
     "output_type": "execute_result"
    }
   ],
   "source": [
    "chooseFirst()"
   ]
  },
  {
   "cell_type": "code",
   "execution_count": null,
   "metadata": {},
   "outputs": [],
   "source": []
  },
  {
   "cell_type": "code",
   "execution_count": null,
   "metadata": {},
   "outputs": [],
   "source": []
  },
  {
   "cell_type": "code",
   "execution_count": 68,
   "metadata": {},
   "outputs": [],
   "source": [
    "def spaceCheck(board,position):\n",
    "    return board[position]==' '"
   ]
  },
  {
   "cell_type": "code",
   "execution_count": 70,
   "metadata": {},
   "outputs": [
    {
     "data": {
      "text/plain": [
       "False"
      ]
     },
     "execution_count": 70,
     "metadata": {},
     "output_type": "execute_result"
    }
   ],
   "source": [
    "spaceCheck(board,4)"
   ]
  },
  {
   "cell_type": "code",
   "execution_count": 71,
   "metadata": {},
   "outputs": [
    {
     "data": {
      "text/plain": [
       "True"
      ]
     },
     "execution_count": 71,
     "metadata": {},
     "output_type": "execute_result"
    }
   ],
   "source": [
    "spaceCheck(board,5)"
   ]
  },
  {
   "cell_type": "code",
   "execution_count": null,
   "metadata": {},
   "outputs": [],
   "source": []
  },
  {
   "cell_type": "code",
   "execution_count": null,
   "metadata": {},
   "outputs": [],
   "source": []
  },
  {
   "cell_type": "code",
   "execution_count": 72,
   "metadata": {},
   "outputs": [],
   "source": [
    "def fullBoardCheck(board):\n",
    "    return not ' ' in board"
   ]
  },
  {
   "cell_type": "code",
   "execution_count": 73,
   "metadata": {},
   "outputs": [
    {
     "data": {
      "text/plain": [
       "False"
      ]
     },
     "execution_count": 73,
     "metadata": {},
     "output_type": "execute_result"
    }
   ],
   "source": [
    "fullBoardCheck(board)"
   ]
  },
  {
   "cell_type": "code",
   "execution_count": 74,
   "metadata": {},
   "outputs": [
    {
     "data": {
      "text/plain": [
       "True"
      ]
     },
     "execution_count": 74,
     "metadata": {},
     "output_type": "execute_result"
    }
   ],
   "source": [
    "fullBoardCheck(testBoard)"
   ]
  },
  {
   "cell_type": "code",
   "execution_count": null,
   "metadata": {},
   "outputs": [],
   "source": []
  },
  {
   "cell_type": "code",
   "execution_count": null,
   "metadata": {},
   "outputs": [],
   "source": []
  },
  {
   "cell_type": "code",
   "execution_count": null,
   "metadata": {},
   "outputs": [],
   "source": []
  }
 ],
 "metadata": {
  "kernelspec": {
   "display_name": "Python 3",
   "language": "python",
   "name": "python3"
  },
  "language_info": {
   "codemirror_mode": {
    "name": "ipython",
    "version": 3
   },
   "file_extension": ".py",
   "mimetype": "text/x-python",
   "name": "python",
   "nbconvert_exporter": "python",
   "pygments_lexer": "ipython3",
   "version": "3.6.5"
  }
 },
 "nbformat": 4,
 "nbformat_minor": 2
}
