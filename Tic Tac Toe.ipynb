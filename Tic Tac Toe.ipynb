{
 "cells": [
  {
   "cell_type": "markdown",
   "metadata": {},
   "source": [
    "# print a board"
   ]
  },
  {
   "cell_type": "code",
   "execution_count": 24,
   "metadata": {},
   "outputs": [
    {
     "name": "stdout",
     "output_type": "stream",
     "text": [
      " ------- \n",
      " |     | \n",
      " ------- \n",
      " |     | \n",
      " ------- \n",
      " |     | \n",
      " ------- \n"
     ]
    }
   ],
   "source": [
    "def displayBoard():\n",
    "    print(\" ------- \")\n",
    "    print(\" |     | \")\n",
    "    print(\" ------- \")\n",
    "    print(\" |     | \")\n",
    "    print(\" ------- \")\n",
    "    print(\" |     | \")\n",
    "    print(\" ------- \")\n",
    "    \n",
    "displayBoard()"
   ]
  },
  {
   "cell_type": "code",
   "execution_count": 27,
   "metadata": {},
   "outputs": [],
   "source": [
    "board = ['0','1','2','3','4','5','6','7','8','9']"
   ]
  },
  {
   "cell_type": "code",
   "execution_count": 39,
   "metadata": {},
   "outputs": [
    {
     "name": "stdout",
     "output_type": "stream",
     "text": [
      " ------------- \n",
      "   7 | 8 | 9\n",
      " ------------- \n",
      "   4 | 5 | 6\n",
      " ------------- \n",
      "   1 | 2 | 3\n",
      " ------------- \n"
     ]
    }
   ],
   "source": [
    "def displayBoard(board):\n",
    "    print(\" ------------- \")\n",
    "    print(\"   \"+ board[7] + \" | \" + board[8] + \" | \" + board[9])\n",
    "    print(\" ------------- \")\n",
    "    print(\"   \"+ board[4] + \" | \" + board[5] + \" | \" + board[6])\n",
    "    print(\" ------------- \")\n",
    "    print(\"   \"+ board[1] + \" | \" + board[2] + \" | \" + board[3])\n",
    "    print(\" ------------- \")\n",
    "    \n",
    "displayBoard(board)"
   ]
  },
  {
   "cell_type": "code",
   "execution_count": null,
   "metadata": {},
   "outputs": [],
   "source": []
  },
  {
   "cell_type": "code",
   "execution_count": null,
   "metadata": {},
   "outputs": [],
   "source": []
  }
 ],
 "metadata": {
  "kernelspec": {
   "display_name": "Python 3",
   "language": "python",
   "name": "python3"
  },
  "language_info": {
   "codemirror_mode": {
    "name": "ipython",
    "version": 3
   },
   "file_extension": ".py",
   "mimetype": "text/x-python",
   "name": "python",
   "nbconvert_exporter": "python",
   "pygments_lexer": "ipython3",
   "version": "3.6.5"
  }
 },
 "nbformat": 4,
 "nbformat_minor": 2
}
