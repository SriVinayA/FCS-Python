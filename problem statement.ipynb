{
 "cells": [
  {
   "cell_type": "code",
   "execution_count": 14,
   "metadata": {},
   "outputs": [
    {
     "name": "stdout",
     "output_type": "stream",
     "text": [
      "hola\n"
     ]
    }
   ],
   "source": [
    "mylist=[0,2,6,0,9,7,8]\n",
    "vinay=[0,0,7,'x']\n",
    "def func(mylist):\n",
    "    for n in mylist:\n",
    "        if n==vinay[0]:\n",
    "            vinay.pop(0);\n",
    "    if len(vinay)==1:\n",
    "        print(\"hola\")\n",
    "    else:\n",
    "        print(\"nope\")\n",
    "\n",
    "func(mylist)"
   ]
  },
  {
   "cell_type": "code",
   "execution_count": 16,
   "metadata": {},
   "outputs": [
    {
     "name": "stdout",
     "output_type": "stream",
     "text": [
      "0 5 6 4 8 \n",
      "nope\n"
     ]
    }
   ],
   "source": [
    "vinay=[0,0,7,'x']\n",
    "def func(mylist):\n",
    "    mylist=[int(x) for x in input().split()]\n",
    "    for n in mylist:\n",
    "        if n==vinay[0]:\n",
    "            vinay.pop(0);\n",
    "    if len(vinay)==1:\n",
    "        print(\"hola\")\n",
    "    else:\n",
    "        print(\"nope\")\n",
    "\n",
    "func(mylist)"
   ]
  },
  {
   "cell_type": "code",
   "execution_count": null,
   "metadata": {},
   "outputs": [],
   "source": []
  }
 ],
 "metadata": {
  "kernelspec": {
   "display_name": "Python 3",
   "language": "python",
   "name": "python3"
  },
  "language_info": {
   "codemirror_mode": {
    "name": "ipython",
    "version": 3
   },
   "file_extension": ".py",
   "mimetype": "text/x-python",
   "name": "python",
   "nbconvert_exporter": "python",
   "pygments_lexer": "ipython3",
   "version": "3.6.5"
  }
 },
 "nbformat": 4,
 "nbformat_minor": 2
}
