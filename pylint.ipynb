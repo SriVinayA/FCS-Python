{
 "cells": [
  {
   "cell_type": "code",
   "execution_count": 6,
   "metadata": {},
   "outputs": [
    {
     "name": "stdout",
     "output_type": "stream",
     "text": [
      "Overwriting sample.py\n"
     ]
    }
   ],
   "source": [
    "%%writefile sample.py\n",
    "a = 1\n",
    "b = 2\n",
    "print(a)\n",
    "print(b)"
   ]
  },
  {
   "cell_type": "code",
   "execution_count": 7,
   "metadata": {},
   "outputs": [
    {
     "name": "stdout",
     "output_type": "stream",
     "text": [
      "************* Module sample\n",
      "sample.py:4:0: C0304: Final newline missing (missing-final-newline)\n",
      "sample.py:1:0: C0111: Missing module docstring (missing-docstring)\n",
      "sample.py:1:0: C0103: Constant name \"a\" doesn't conform to UPPER_CASE naming style (invalid-name)\n",
      "sample.py:2:0: C0103: Constant name \"b\" doesn't conform to UPPER_CASE naming style (invalid-name)\n",
      "\n",
      "-------------------------------------------------------------------\n",
      "\n",
      "Your code has been rated at 0.00/10 (previous run: -5.00/10, +5.00)\n",
      "\n",
      "\n",
      "\n"
     ]
    }
   ],
   "source": [
    "!pylint sample.py"
   ]
  },
  {
   "cell_type": "code",
   "execution_count": 31,
   "metadata": {},
   "outputs": [
    {
     "name": "stdout",
     "output_type": "stream",
     "text": [
      "Overwriting sample.py\n"
     ]
    }
   ],
   "source": [
    "%%writefile sample.py\n",
    "'''vinay's small sample file'''\n",
    "\n",
    "def myfun():\n",
    "    '''akash's very simple code'''\n",
    "    first = 1\n",
    "    second = 2\n",
    "    print(first)\n",
    "    print(second)\n",
    "    \n",
    "myfun()"
   ]
  },
  {
   "cell_type": "code",
   "execution_count": 37,
   "metadata": {},
   "outputs": [
    {
     "name": "stdout",
     "output_type": "stream",
     "text": [
      "************* Module sample\n",
      "sample.py:9:0: C0303: Trailing whitespace (trailing-whitespace)\n",
      "sample.py:10:0: C0304: Final newline missing (missing-final-newline)\n",
      "\n",
      "------------------------------------------------------------------\n",
      "\n",
      "Your code has been rated at 6.67/10 (previous run: 6.67/10, +0.00)\n",
      "\n",
      "\n",
      "\n"
     ]
    }
   ],
   "source": [
    "!pylint sample.py"
   ]
  },
  {
   "cell_type": "code",
   "execution_count": null,
   "metadata": {},
   "outputs": [],
   "source": []
  }
 ],
 "metadata": {
  "kernelspec": {
   "display_name": "Python 3",
   "language": "python",
   "name": "python3"
  },
  "language_info": {
   "codemirror_mode": {
    "name": "ipython",
    "version": 3
   },
   "file_extension": ".py",
   "mimetype": "text/x-python",
   "name": "python",
   "nbconvert_exporter": "python",
   "pygments_lexer": "ipython3",
   "version": "3.6.5"
  }
 },
 "nbformat": 4,
 "nbformat_minor": 2
}
